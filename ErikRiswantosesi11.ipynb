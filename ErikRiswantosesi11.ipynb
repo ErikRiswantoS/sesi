{
 "cells": [
  {
   "cell_type": "code",
   "execution_count": 5,
   "id": "a283db20",
   "metadata": {},
   "outputs": [
    {
     "name": "stdout",
     "output_type": "stream",
     "text": [
      "Welcome in Python Language\n",
      "Welcome in Python Language\n"
     ]
    }
   ],
   "source": [
    "def helloPython():\n",
    "    print('Welcome in Python Language')\n",
    "    \n",
    "helloPython()\n",
    "helloPython()"
   ]
  },
  {
   "cell_type": "code",
   "execution_count": 7,
   "id": "14f6f5e7",
   "metadata": {},
   "outputs": [
    {
     "name": "stdout",
     "output_type": "stream",
     "text": [
      "Mirza Yusuf,S.Kom\n"
     ]
    }
   ],
   "source": [
    "def getTitle(title='S.Kom'):\n",
    "    return title\n",
    "\n",
    "def fullNameWithTitle(firstname,lastname):\n",
    "    title = getTitle()\n",
    "    print(f\"{firstname} {lastname},{title}\")\n",
    "    \n",
    "fullNameWithTitle(\"Mirza\",\"Yusuf\")"
   ]
  },
  {
   "cell_type": "code",
   "execution_count": 10,
   "id": "eff3a329",
   "metadata": {},
   "outputs": [
    {
     "name": "stdout",
     "output_type": "stream",
     "text": [
      "prof.Mirza Yusuf.S.Kom\n"
     ]
    }
   ],
   "source": [
    "def getTitleBelakang(title='S.Kom'):\n",
    "    return title\n",
    "\n",
    "def getTitleDepan(title='prof'):\n",
    "    return title\n",
    "\n",
    "def fullNameWithTitle(firstname,lastname):\n",
    "    titleDepan = getTitleDepan()\n",
    "    titleBelakang = getTitleBelakang()\n",
    "    print(f\"{titleDepan}.{firstname} {lastname}.{titleBelakang}\")\n",
    "    \n",
    "fullNameWithTitle(\"Mirza\",\"Yusuf\")"
   ]
  },
  {
   "cell_type": "code",
   "execution_count": 16,
   "id": "cbe82562",
   "metadata": {},
   "outputs": [
    {
     "data": {
      "text/plain": [
       "100"
      ]
     },
     "execution_count": 16,
     "metadata": {},
     "output_type": "execute_result"
    }
   ],
   "source": [
    "def maxValue(val_1, val_2, val_3):\n",
    "    if val_1 > val_2 and val_1 > val_3:\n",
    "        return val_1\n",
    "    \n",
    "maxValue(100,10,5)"
   ]
  },
  {
   "cell_type": "code",
   "execution_count": 21,
   "id": "2f27abc5",
   "metadata": {},
   "outputs": [
    {
     "name": "stdout",
     "output_type": "stream",
     "text": [
      "100\n",
      "176.625\n",
      "-76.625\n"
     ]
    }
   ],
   "source": [
    "def countCircleArea(diameter,phi=3.14):\n",
    "    r = diameter/2\n",
    "    return phi * r * r\n",
    "\n",
    "def countSquareArea(sisi):\n",
    "    return sisi * sisi\n",
    "\n",
    "sisi = 10\n",
    "diameter = 15\n",
    "result = countSquareArea(sisi) - countCircleArea(diameter)\n",
    "print(countSquareArea(sisi))\n",
    "print(countCircleArea(diameter))\n",
    "print(result)"
   ]
  },
  {
   "cell_type": "code",
   "execution_count": 25,
   "id": "0e8bb003",
   "metadata": {},
   "outputs": [
    {
     "name": "stdout",
     "output_type": "stream",
     "text": [
      "Suhu sekarang di Sukabumi : 25 Celcius\n",
      "Suhu sekarang di Sukabumi : 100 fahrenheit\n",
      "Suhu sekarang di surabaya : 18 fahrenheit\n"
     ]
    }
   ],
   "source": [
    "def info(suhu, daerah='Sukabumi', satuan='Celcius'):\n",
    "    print(f\"Suhu sekarang di {daerah} : {suhu} {satuan}\")\n",
    "    \n",
    "info(25)\n",
    "info(100,satuan='fahrenheit')\n",
    "info(18,'surabaya','fahrenheit')"
   ]
  },
  {
   "cell_type": "code",
   "execution_count": 29,
   "id": "8820151f",
   "metadata": {},
   "outputs": [
    {
     "data": {
      "text/plain": [
       "24"
      ]
     },
     "execution_count": 29,
     "metadata": {},
     "output_type": "execute_result"
    }
   ],
   "source": [
    "def faktorial(bil):\n",
    "    if bil ==1:\n",
    "        return 1\n",
    "    return bil * faktorial(bil-1)\n",
    "\n",
    "faktorial(4)"
   ]
  },
  {
   "cell_type": "code",
   "execution_count": 37,
   "id": "f9e9001c",
   "metadata": {},
   "outputs": [
    {
     "data": {
      "text/plain": [
       "150"
      ]
     },
     "execution_count": 37,
     "metadata": {},
     "output_type": "execute_result"
    }
   ],
   "source": [
    "nilaiTugas = [10,20,30,40,50]\n",
    "\n",
    "def totalNilai(nTugas):\n",
    "    total=0\n",
    "    for i in nTugas:\n",
    "        total +=i\n",
    "        \n",
    "    return total\n",
    "\n",
    "totalNilai(nilaiTugas)"
   ]
  },
  {
   "cell_type": "code",
   "execution_count": 34,
   "id": "103c5f66",
   "metadata": {},
   "outputs": [
    {
     "name": "stdout",
     "output_type": "stream",
     "text": [
      "150\n"
     ]
    }
   ],
   "source": [
    "def sumlist(numbers):\n",
    "    total=0\n",
    "    for number in numbers:\n",
    "        total += number\n",
    "        \n",
    "    return total\n",
    "numbers = [10,20,30,40,50]\n",
    "total = sumlist(numbers)\n",
    "print(total)"
   ]
  },
  {
   "cell_type": "code",
   "execution_count": 36,
   "id": "8bb74c11",
   "metadata": {},
   "outputs": [
    {
     "name": "stdout",
     "output_type": "stream",
     "text": [
      "960\n",
      "700\n"
     ]
    }
   ],
   "source": [
    "nilaiTugas = [100,80,700,80]\n",
    "\n",
    "def totalNilai(nTugas):\n",
    "    total=0\n",
    "    for i in nTugas:\n",
    "        total +=i\n",
    "        \n",
    "    return total\n",
    "\n",
    "def maxValue(nTugas):\n",
    "    maks =0\n",
    "    for i in nTugas:\n",
    "        if i > maks:\n",
    "            maks = i\n",
    "            \n",
    "    return maks\n",
    "\n",
    "print(totalNilai(nilaiTugas))\n",
    "print(maxValue(nilaiTugas))"
   ]
  },
  {
   "cell_type": "code",
   "execution_count": 2,
   "id": "8ed2679d",
   "metadata": {},
   "outputs": [
    {
     "name": "stdout",
     "output_type": "stream",
     "text": [
      "RANKING 1 Adalah...\n",
      "\n",
      "nama:  Adi\n",
      "nilai:  90\n"
     ]
    }
   ],
   "source": [
    "nilaiProgramming = [\n",
    "    {\n",
    "        \"nama\":\"Adi\",\n",
    "        \"nilai\":90\n",
    "    },\n",
    "    {\n",
    "        \"nama\":\"Rudi\",\n",
    "        \"nilai\":100\n",
    "    },\n",
    "    {\n",
    "        \"nama\":\"Asep\",\n",
    "        \"nilai\":20\n",
    "    },\n",
    "    {\n",
    "        \"nama\":\"Farid\",\n",
    "        \"nilai\":50\n",
    "    }\n",
    "]\n",
    "\n",
    "def maxNilai(nilaiProgramming):\n",
    "    nilaiTerbesar = 0\n",
    "    namaTerbesar = ''\n",
    "    for mahasiswa in nilaiProgramming:\n",
    "        nilai = mahasiswa.get(\"nilai\")\n",
    "        nama = mahasiswa.get(\"nama\")\n",
    "        \n",
    "        if nilai > nilaiTerbesar:\n",
    "            namaTerbesar = nama\n",
    "            nilaiTerbesar = nilai\n",
    "            \n",
    "        return {\n",
    "            \"nama\": namaTerbesar,\n",
    "            \"nilai\": nilaiTerbesar\n",
    "        }\n",
    "    \n",
    "mahasiswa = maxNilai(nilaiProgramming)\n",
    "\n",
    "print(\"RANKING 1 Adalah...\\n\")\n",
    "print(\"nama: \", mahasiswa.get(\"nama\"))\n",
    "print(\"nilai: \", mahasiswa.get(\"nilai\"))"
   ]
  },
  {
   "cell_type": "code",
   "execution_count": null,
   "id": "1a1ff6b7",
   "metadata": {},
   "outputs": [],
   "source": []
  }
 ],
 "metadata": {
  "kernelspec": {
   "display_name": "Python 3 (ipykernel)",
   "language": "python",
   "name": "python3"
  },
  "language_info": {
   "codemirror_mode": {
    "name": "ipython",
    "version": 3
   },
   "file_extension": ".py",
   "mimetype": "text/x-python",
   "name": "python",
   "nbconvert_exporter": "python",
   "pygments_lexer": "ipython3",
   "version": "3.9.12"
  }
 },
 "nbformat": 4,
 "nbformat_minor": 5
}
